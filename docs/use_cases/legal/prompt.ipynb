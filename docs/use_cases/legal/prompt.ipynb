{
 "cells": [
  {
   "attachments": {},
   "cell_type": "markdown",
   "id": "6488fdaf",
   "metadata": {},
   "source": [
    "# 法律助理\n",
    "测试和实验GPT3.5在中国法律助理场景的应用：对中国法律的理解，对法律条款和陈述的综合分析能力的测试。\n",
    "对于这个场景prompt设计的探索和测试\n"
   ]
  },
  {
   "cell_type": "code",
   "execution_count": 1,
   "id": "d244f714",
   "metadata": {},
   "outputs": [],
   "source": [
    "from langchain.prompts import (\n",
    "    ChatPromptTemplate,\n",
    "    PromptTemplate,\n",
    "    SystemMessagePromptTemplate,\n",
    "    AIMessagePromptTemplate,\n",
    "    HumanMessagePromptTemplate,\n",
    ")\n",
    "from langchain.schema import (\n",
    "    AIMessage,\n",
    "    HumanMessage,\n",
    "    SystemMessage\n",
    ")\n",
    "\n",
    "from langchain.chains import LLMChain\n",
    "from langchain.llms import AzureOpenAI\n",
    "from langchain.llms import OpenAI\n",
    "from langchain.chat_models import ChatOpenAI"
   ]
  },
  {
   "cell_type": "code",
   "execution_count": 2,
   "id": "62905070",
   "metadata": {},
   "outputs": [],
   "source": [
    "llm = OpenAI(model_name='text-davinci-003', temperature=0.0, max_tokens=1500)\n",
    "chat = ChatOpenAI(temperature=0)"
   ]
  },
  {
   "attachments": {},
   "cell_type": "markdown",
   "id": "9b23793a",
   "metadata": {},
   "source": [
    "最简单的推理测试：找到好的prompt很不容易，需要对法律场景、问题类型、模型与人在这样问题上的思维方式及其偏见（inductive bias）有深刻的理解后（经过很多尝试后）才能生成。"
   ]
  },
  {
   "cell_type": "code",
   "execution_count": 3,
   "id": "dc434c66",
   "metadata": {},
   "outputs": [],
   "source": [
    "question = \"以上法律条款适用于以上陈述的先决条件是什么？这个条件满足了吗？为什么？陈述是正确的吗？为什么？\"\n",
    "\n",
    "law=\"犯罪嫌疑人自被侦查机关第一次讯问或者采取强制措施之日起，有权委托辩护人; \\\n",
    "在侦查期间，只能委托律师作为辩护人。被告人有权随时委托辩护人.\"\n",
    "prefix = \"关于辩护人的权利与义务的表述\"\n",
    "statement =\"犯罪嫌疑人高某因为绑架罪被立案侦查，\\\n",
    "自被第一次讯问后或被采取强制措施之日起，高某有权聘请其在医院工作的朋友袁某作其辩护人。\""
   ]
  },
  {
   "cell_type": "code",
   "execution_count": 4,
   "id": "312aa79e",
   "metadata": {},
   "outputs": [
    {
     "name": "stdout",
     "output_type": "stream",
     "text": [
      "\n",
      "\n",
      "\u001b[1m> Entering new LLMChain chain...\u001b[0m\n",
      "Prompt after formatting:\n",
      "\u001b[32;1m\u001b[1;3m请仔细理解以下法律条款和陈述后回答问题。请用英文回答。法律条款、陈述和问题都被三重反引号分隔开法律条款：'''犯罪嫌疑人自被侦查机关第一次讯问或者采取强制措施之日起，有权委托辩护人; 在侦查期间，只能委托律师作为辩护人。被告人有权随时委托辩护人.''' 陈述：'''关于辩护人的权利与义务的表述 犯罪嫌疑人高某因为绑架罪被立案侦查，自被第一次讯问后或被采取强制措施之日起，高某有权聘请其在医院工作的朋友袁某作其辩护人。''' 问题：'''以上法律条款适用于以上陈述的先决条件是什么？每个条件满足了吗？用bullet point列举出来？陈述是正确的吗？为什么？请用英文回答。expand to a one page analysis.''' \u001b[0m\n",
      "\n",
      "\u001b[1m> Finished chain.\u001b[0m\n"
     ]
    },
    {
     "data": {
      "text/plain": [
       "'The legal provisions stated in the first paragraph of the prompt outline the rights of criminal suspects and defendants to appoint a defense counsel. The key conditions that must be met for these provisions to apply are:\\n\\n- The individual must be a criminal suspect or defendant, meaning they are under investigation or have been formally charged with a crime.\\n- The individual must have been questioned by law enforcement or subjected to coercive measures, such as arrest or detention.\\n- If the individual is a suspect during the investigation phase, they can only appoint a lawyer as their defense counsel.\\n\\nIn the given statement, the individual named \"高某\" is a criminal suspect who has been investigated for kidnapping. The statement also indicates that they have been questioned or subjected to coercive measures, which satisfies the second condition. However, it is not clear from the statement whether the investigation is still in progress or if formal charges have been filed. If the former is true, then the third condition would apply and the individual could only appoint a lawyer as their defense counsel.\\n\\nRegarding the accuracy of the statement, it is not entirely correct. While the individual has the right to appoint a defense counsel, the choice of counsel is subject to certain restrictions. For example, the appointed counsel must be a licensed lawyer and cannot have a conflict of interest in the case. In this case, if the individual\\'s friend \"袁某\" is not a licensed lawyer, they would not be eligible to serve as the defense counsel.\\n\\nIn conclusion, the legal provisions outlined in the prompt provide important protections for criminal suspects and defendants, but their application is subject to certain conditions and restrictions. It is important for individuals in these situations to understand their rights and seek qualified legal counsel to ensure a fair and just legal process.'"
      ]
     },
     "execution_count": 4,
     "metadata": {},
     "output_type": "execute_result"
    }
   ],
   "source": [
    "qTemplate=\"\"\"请仔细理解以下法律条款和陈述后回答问题。请用英文回答。\\\n",
    "法律条款、陈述和问题都被三重反引号分隔开\\\n",
    "法律条款：'''{law}''' \\\n",
    "陈述：'''{prefix} {statement}''' \\\n",
    "问题：'''{question}''' \"\"\"\n",
    "\n",
    "question = \"\"\"以上法律条款适用于以上陈述的先决条件是什么？每个条件满足了吗？用bullet point列举出来？陈述是正确的吗？为什么？请用英文回答。expand to a one page analysis.\"\"\" \n",
    "\n",
    "qPrompt = PromptTemplate(input_variables=[\"law\",\"prefix\", \"statement\", \"question\"], template=qTemplate)\n",
    "\n",
    "qChain = LLMChain(llm=chat, verbose=True, prompt=qPrompt)\n",
    "qChain.run(law=law, prefix=prefix, statement=statement, question=question)"
   ]
  },
  {
   "cell_type": "code",
   "execution_count": 5,
   "id": "772d9daf",
   "metadata": {},
   "outputs": [
    {
     "name": "stdout",
     "output_type": "stream",
     "text": [
      "\n",
      "\n",
      "\u001b[1m> Entering new LLMChain chain...\u001b[0m\n",
      "Prompt after formatting:\n",
      "\u001b[32;1m\u001b[1;3m请把以下的多项选择题改为多道正确与错误的判断题.用bullet point列出所有的题但是不做解答。问题：'''关于暂予监外执行的说法，下列选项正确的是?  ：A.张某因盗窃被判处5年有期徒刑，在交付执 行前，突患严重疾病，需保外就医，应当由省级以上 监狱管理机关决定张某暂予监外执行B.不符合暂予监外执行条件的罪犯通过贿赂等非法手段被暂予监外执行的，在监外执行的期间不计人执行刑期C.罪犯在暂予监外执行期间脱逃的，脱逃的期间不计人执行刑期。被决定收监执行的社区矫正人员在逃的，由社区矫正机构负责追捕D.对暂予监外执行的罪犯，由公安机关交所在单位或者基层组织予以考察''' \u001b[0m\n",
      "\n",
      "\u001b[1m> Finished chain.\u001b[0m\n"
     ]
    },
    {
     "data": {
      "text/plain": [
       "'- 张某因盗窃被判处5年有期徒刑，在交付执行前，突患严重疾病，需保外就医，应当由省级以上监狱管理机关决定张某暂予监外执行（正确）\\n- 不符合暂予监外执行条件的罪犯通过贿赂等非法手段被暂予监外执行的，在监外执行的期间不计人执行刑期（错误）\\n- 罪犯在暂予监外执行期间脱逃的，脱逃的期间不计人执行刑期。被决定收监执行的社区矫正人员在逃的，由社区矫正机构负责追捕（正确）\\n- 对暂予监外执行的罪犯，由公安机关交所在单位或者基层组织予以考察（正确）'"
      ]
     },
     "execution_count": 5,
     "metadata": {},
     "output_type": "execute_result"
    }
   ],
   "source": [
    "qTemplate=\"\"\"请把以下的多项选择题改为多道正确与错误的判断题.用bullet point列出所有的题但是不做解答。\\\n",
    "问题：'''{problem}''' \"\"\"\n",
    "\n",
    "problem = \"\"\"关于暂予监外执行的说法，下列选项正确的是?  ：\\\n",
    "A.张某因盗窃被判处5年有期徒刑，在交付执 行前，突患严重疾病，需保外就医，应当由省级以上 监狱管理机关决定张某暂予监外执行\\\n",
    "B.不符合暂予监外执行条件的罪犯通过贿赂等非法手段被暂予监外执行的，在监外执行的期间不计人执行刑期\\\n",
    "C.罪犯在暂予监外执行期间脱逃的，脱逃的期间不计人执行刑期。被决定收监执行的社区矫正人员在逃的，由社区矫正机构负责追捕\\\n",
    "D.对暂予监外执行的罪犯，由公安机关交所在单位或者基层组织予以考察\"\"\" \n",
    "\n",
    "qPrompt = PromptTemplate(input_variables=[\"problem\"], template=qTemplate)\n",
    "\n",
    "qChain = LLMChain(llm=chat, verbose=True, prompt=qPrompt)\n",
    "qChain.run(problem=problem)"
   ]
  }
 ],
 "metadata": {
  "kernelspec": {
   "display_name": "Python 3 (ipykernel)",
   "language": "python",
   "name": "python3"
  },
  "language_info": {
   "codemirror_mode": {
    "name": "ipython",
    "version": 3
   },
   "file_extension": ".py",
   "mimetype": "text/x-python",
   "name": "python",
   "nbconvert_exporter": "python",
   "pygments_lexer": "ipython3",
   "version": "3.10.6"
  }
 },
 "nbformat": 4,
 "nbformat_minor": 5
}
