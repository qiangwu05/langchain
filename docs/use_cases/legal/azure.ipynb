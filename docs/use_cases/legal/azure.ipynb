{
 "cells": [
  {
   "attachments": {},
   "cell_type": "markdown",
   "id": "6488fdaf",
   "metadata": {},
   "source": [
    "# 法律助理\n",
    "测试和实验GPT3.5在中国法律助理场景的应用：对中国法律的理解，对法律条款和陈述的综合分析能力的测试。\n",
    "对于这个场景prompt设计的探索和测试\n"
   ]
  },
  {
   "cell_type": "code",
   "execution_count": null,
   "id": "d244f714",
   "metadata": {},
   "outputs": [],
   "source": [
    "from langchain.prompts import (\n",
    "    ChatPromptTemplate,\n",
    "    PromptTemplate,\n",
    "    SystemMessagePromptTemplate,\n",
    "    AIMessagePromptTemplate,\n",
    "    HumanMessagePromptTemplate,\n",
    ")\n",
    "from langchain.schema import (\n",
    "    AIMessage,\n",
    "    HumanMessage,\n",
    "    SystemMessage\n",
    ")\n",
    "\n",
    "from langchain.chains import LLMChain\n",
    "from langchain.llms import AzureOpenAI\n",
    "from langchain.llms import OpenAI\n",
    "from langchain.chat_models import ChatOpenAI"
   ]
  },
  {
   "cell_type": "code",
   "execution_count": null,
   "id": "37aaeb97",
   "metadata": {},
   "outputs": [],
   "source": [
    "import os\n",
    "os.environ[\"OPENAI_API_TYPE\"] = \"azure\"\n",
    "os.environ[\"OPENAI_API_BASE\"] = \"https://aoai-dv3-api.openai.azure.com/\"\n",
    "os.environ[\"OPENAI_API_VERSION\"] = \"2022-12-01\"\n",
    "os.environ[\"OPENAI_API_KEY\"] = os.getenv(\"OPENAI_API_KEY\")"
   ]
  },
  {
   "attachments": {},
   "cell_type": "markdown",
   "id": "9b23793a",
   "metadata": {},
   "source": [
    "最简单的推理测试：找到好的prompt很不容易，需要对法律场景、问题类型、模型与人在这样问题上的思维方式及其偏见（inductive bias）有深刻的理解后（经过很多尝试后）才能生成。"
   ]
  },
  {
   "cell_type": "code",
   "execution_count": null,
   "id": "dc434c66",
   "metadata": {},
   "outputs": [],
   "source": [
    "question = \"根据上述法律分析这对情侣是否构成犯罪，并阐述分析过程。\" \n",
    "\n",
    "law=\"\"\" \n",
    "如果连看都不看就扔，有砸伤人的风险，在这种情况下，即使没砸伤人，也可能被认定为间接故意而构成犯罪。\n",
    "如果砸之前看了楼下没人，但扔下去之后突然有人飞快窜出被砸成重伤，也会构成犯罪。\n",
    "\"\"\"\n",
    "statement =\"\"\"一对情侣在家里不知道因为什么原因而大吵了一架，生气之下把自己养的狗从8楼扔下。\n",
    "好在，当时没有人路过，可怜狗狗成为了受害者。据目击者称，当时看到狗从天而降，大家上去施救的时候，发现狗已经没有了生命体征；\n",
    "而且直到死的那一刻，眼睛也没闭上。事后，警察到来，带走这对情侣，回去协助调查\"\"\""
   ]
  },
  {
   "cell_type": "code",
   "execution_count": null,
   "id": "312aa79e",
   "metadata": {},
   "outputs": [],
   "source": [
    "qTemplate=\"\"\"\n",
    "在仔细理解以下被三重反引号分隔开的事实陈述, 法律条款和问题后，请用英文写一篇关于案情分析的备忘录： \n",
    "  事实陈述：'''{statement}''' \n",
    "  法律条款：'''{law}''' \n",
    "  问题：'''{question}'''\n",
    "英文的忘录不能少于2页，需要包括以下3段：\n",
    "1. 列举事实陈述中容易纠结的要点\n",
    "2. 对问题做出简单和清楚的回答：回答必须基于以上法律的内容\n",
    "3. 深度和详细的分析相关法律和案情：法律条款为什么适用于陈述中的场景？请列出推理过程遇到的纠结点和做出的假设。\n",
    "\"\"\"\n",
    "qPrompt = PromptTemplate(input_variables=[\"law\", \"statement\", \"question\"], template=qTemplate)"
   ]
  },
  {
   "cell_type": "code",
   "execution_count": 9,
   "id": "c5031f69",
   "metadata": {},
   "outputs": [
    {
     "name": "stdout",
     "output_type": "stream",
     "text": [
      "\n",
      "\n",
      "\u001b[1m> Entering new LLMChain chain...\u001b[0m\n",
      "Prompt after formatting:\n",
      "\u001b[32;1m\u001b[1;3m\n",
      "在仔细理解以下被三重反引号分隔开的事实陈述, 法律条款和问题后，请用英文写一篇关于案情分析的备忘录： \n",
      "  事实陈述：'''一对情侣在家里不知道因为什么原因而大吵了一架，生气之下把自己养的狗从8楼扔下。\n",
      "好在，当时没有人路过，可怜狗狗成为了受害者。据目击者称，当时看到狗从天而降，大家上去施救的时候，发现狗已经没有了生命体征；\n",
      "而且直到死的那一刻，眼睛也没闭上。事后，警察到来，带走这对情侣，回去协助调查''' \n",
      "  法律条款：''' \n",
      "如果连看都不看就扔，有砸伤人的风险，在这种情况下，即使没砸伤人，也可能被认定为间接故意而构成犯罪。\n",
      "如果砸之前看了楼下没人，但扔下去之后突然有人飞快窜出被砸成重伤，也会构成犯罪。\n",
      "''' \n",
      "  问题：'''根据上述法律分析这对情侣是否构成犯罪，并阐述分析过程。'''\n",
      "英文的忘录不能少于2页，需要包括以下3段：\n",
      "1. 列举事实陈述中容易纠结的要点\n",
      "2. 对问题做出简单和清楚的回答：回答必须基于以上法律的内容\n",
      "3. 深度和详细的分析相关法律和案情：法律条款为什么适用于陈述中的场景？请列出推理过程遇到的纠结点和做出的假设。\n",
      "\u001b[0m\n",
      "\n",
      "\u001b[1m> Finished chain.\u001b[0m\n",
      "\n",
      "以下是一个可能的英文备忘录：\n",
      "\n",
      "MEMORANDUM\n",
      "\n",
      "To: Legal Counsel\n",
      "From: Legal Assistant\n",
      "Date: June 1, 2021\n",
      "Subject: Criminal Liability of a Couple for Throwing a Dog from the 8th Floor\n",
      "\n",
      "FACTS\n",
      "\n",
      "A couple had a quarrel at home for some unknown reason and threw their dog from the 8th floor in anger. Fortunately, no one was passing by at the time, but the poor dog became the victim. According to witnesses, they saw the dog falling from the sky and when they went to rescue it, they found that the dog had no signs of life and its eyes were not closed until the moment of death. Later, the police arrived and took the couple away for further investigation.\n",
      "\n",
      "LAW\n",
      "\n",
      "If the couple threw the dog without looking, they risked injuring someone. In this case, even if they did not injure anyone, they could be considered to have indirect intent and commit a crime. If the couple looked before throwing the dog and saw no one below, but someone suddenly ran out and was hit and seriously injured, they would also commit a crime.\n",
      "\n",
      "QUESTION\n",
      "\n",
      "Did the couple commit a crime according to the above law and why?\n",
      "\n",
      "ANSWER\n",
      "\n",
      "Yes, the couple committed a crime according to the above law because they acted with indirect intent to cause harm or death to another living being.\n",
      "\n",
      "ANALYSIS\n",
      "\n",
      "The law applies to the scenario described in the facts because the couple threw their dog from a high place without regard for the consequences. This shows that they were aware of the possibility of causing harm or death to someone, but they did not care or they desired it. This is the definition of indirect intent, which is sufficient to establish criminal liability.\n",
      "\n",
      "The main points of contention in this case are:\n",
      "\n",
      "- Whether the couple looked before throwing the dog and whether there was anyone below at the time;\n",
      "- Whether the couple had any motive or reason for throwing the dog and whether they regretted their action;\n",
      "- Whether the dog was a property or a living being and whether it had any rights or interests that were violated.\n",
      "\n",
      "These points could affect the degree of culpability and the severity of the punishment of the couple. For example, if the couple looked before throwing the dog and saw no one below, they could argue that they did not intend to harm anyone and that they acted impulsively or emotionally. However, this would not negate their indirect intent, but it could mitigate their sentence. On the other hand, if the couple did not look before throwing the dog or if there was someone below at the time, they could be charged with attempted murder or manslaughter, depending on the outcome.\n",
      "\n",
      "Similarly, if the couple had a valid reason for throwing the dog, such as self-defense or necessity, they could claim that they acted lawfully or justifiably. However, this would require them to prove that the dog posed a serious threat to them or that they had no other choice. On the other hand, if the couple had no reason or motive for throwing the dog or if they did it out of malice or cruelty, they could be accused of animal abuse or torture, which could aggravate their offense.\n",
      "\n",
      "Finally, if the dog was considered a property or a living being, it could affect the rights or interests that were violated by the couple. If the dog was a property, the couple could be liable for damages or compensation to the owner or the society. If the dog was a living being, the couple could be liable for violating its dignity or welfare. In either case, the couple could face legal consequences for their actions.\n",
      "\n",
      "Therefore, based on the above analysis, the couple committed a crime by throwing their dog from the 8th floor with indirect intent. However, the exact nature and extent of their crime could depend on the circumstances and the evidence of the case.\n"
     ]
    }
   ],
   "source": [
    "Azure_llm = AzureOpenAI(deployment_name=\"aoai-dv3\", model_name=\"text-davinci-003\", streaming=True, temperature=0.0, max_tokens=5000)\n",
    "AzureChain = LLMChain(llm=Azure_llm, verbose=True, prompt=qPrompt)\n",
    "memo = AzureChain.run(law=law, statement=statement, question=question)\n",
    "print(memo)\n"
   ]
  }
 ],
 "metadata": {
  "kernelspec": {
   "display_name": "Python 3 (ipykernel)",
   "language": "python",
   "name": "python3"
  },
  "language_info": {
   "codemirror_mode": {
    "name": "ipython",
    "version": 3
   },
   "file_extension": ".py",
   "mimetype": "text/x-python",
   "name": "python",
   "nbconvert_exporter": "python",
   "pygments_lexer": "ipython3",
   "version": "3.10.6"
  }
 },
 "nbformat": 4,
 "nbformat_minor": 5
}
