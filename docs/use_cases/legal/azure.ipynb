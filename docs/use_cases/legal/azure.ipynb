{
 "cells": [
  {
   "attachments": {},
   "cell_type": "markdown",
   "id": "6488fdaf",
   "metadata": {},
   "source": [
    "# 法律助理\n",
    "测试和实验GPT3.5在中国法律助理场景的应用：对中国法律的理解，对法律条款和陈述的综合分析能力的测试。\n",
    "对于这个场景prompt设计的探索和测试\n"
   ]
  },
  {
   "cell_type": "code",
   "execution_count": null,
   "id": "d244f714",
   "metadata": {},
   "outputs": [],
   "source": [
    "from langchain.prompts import (\n",
    "    ChatPromptTemplate,\n",
    "    PromptTemplate,\n",
    "    SystemMessagePromptTemplate,\n",
    "    AIMessagePromptTemplate,\n",
    "    HumanMessagePromptTemplate,\n",
    ")\n",
    "from langchain.schema import (\n",
    "    AIMessage,\n",
    "    HumanMessage,\n",
    "    SystemMessage\n",
    ")\n",
    "\n",
    "from langchain.chains import LLMChain\n",
    "from langchain.llms import AzureOpenAI\n",
    "from langchain.llms import OpenAI\n",
    "from langchain.chat_models import ChatOpenAI"
   ]
  },
  {
   "attachments": {},
   "cell_type": "markdown",
   "id": "9b23793a",
   "metadata": {},
   "source": [
    "最简单的推理测试：找到好的prompt很不容易，需要对法律场景、问题类型、模型与人在这样问题上的思维方式及其偏见（inductive bias）有深刻的理解后（经过很多尝试后）才能生成。"
   ]
  },
  {
   "cell_type": "code",
   "execution_count": null,
   "id": "dc434c66",
   "metadata": {},
   "outputs": [],
   "source": [
    "law=\"犯罪嫌疑人自被侦查机关第一次讯问或者采取强制措施之日起，有权委托辩护人; \\\n",
    "在侦查期间，只能委托律师作为辩护人。被告人有权随时委托辩护人.\"\n",
    "prefix = \"关于辩护人的权利与义务的表述\"\n",
    "statement =\"犯罪嫌疑人高某因为绑架罪被立案侦查，\\\n",
    "自被第一次讯问后或被采取强制措施之日起，高某有权聘请其在医院工作的朋友袁某作其辩护人。\""
   ]
  },
  {
   "cell_type": "code",
   "execution_count": null,
   "id": "312aa79e",
   "metadata": {},
   "outputs": [],
   "source": [
    "qTemplate=\"\"\"请仔细理解以下法律条款和陈述后回答问题。请用英文回答。\\\n",
    "法律条款、陈述和问题都被三重反引号分隔开\\\n",
    "法律条款：'''{law}''' \\\n",
    "陈述：'''{prefix} {statement}''' \\\n",
    "问题：'''{question}''' \"\"\"\n",
    "\n",
    "question = \"\"\"以上法律条款适用于以上陈述的先决条件是什么？每个条件满足了吗？用bullet point列举出来？陈述是正确的吗？为什么？请用英文回答。expand to a one page analysis.\"\"\" \n",
    "\n",
    "qPrompt = PromptTemplate(input_variables=[\"law\",\"prefix\", \"statement\", \"question\"], template=qTemplate)"
   ]
  },
  {
   "cell_type": "code",
   "execution_count": null,
   "id": "8a8acc24",
   "metadata": {},
   "outputs": [],
   "source": [
    "import os\n",
    "os.environ[\"OPENAI_API_TYPE\"] = \"azure\"\n",
    "os.environ[\"OPENAI_API_BASE\"] = \"https://aoai-dv3-api.openai.azure.com/\"\n",
    "os.environ[\"OPENAI_API_VERSION\"] = \"2022-12-01\"\n",
    "os.environ[\"OPENAI_API_KEY\"] = os.getenv(\"OPENAI_API_KEY\")\n",
    "\n",
    "Azure_llm = AzureOpenAI(deployment_name=\"aoai-dv3\", model_name=\"text-davinci-003\")\n",
    "AzureChain = LLMChain(llm=Azure_llm, verbose=True, prompt=qPrompt)\n",
    "AzureChain.run(law=law, prefix=prefix, statement=statement, question=question)\n"
   ]
  },
  {
   "cell_type": "code",
   "execution_count": null,
   "id": "aabd7e10",
   "metadata": {},
   "outputs": [],
   "source": [
    "import os\n",
    "import openai\n",
    "openai.api_type = \"azure\"\n",
    "openai.api_base = \"https://aoai-dv3-api.openai.azure.com/\"\n",
    "openai.api_version = \"2022-12-01\"\n",
    "openai.api_key = os.getenv(\"OPENAI_API_KEY\")\n",
    "\n",
    "response = openai.Completion.create(\n",
    "  engine=\"aoai-dv3\",\n",
    "  prompt=\"tell me a joke\",\n",
    "  temperature=1,\n",
    "  max_tokens=100,\n",
    "  top_p=0.5,\n",
    "  frequency_penalty=0,\n",
    "  presence_penalty=0,\n",
    "  best_of=1,\n",
    "  stop=None)\n"
   ]
  },
  {
   "cell_type": "code",
   "execution_count": null,
   "id": "961128af",
   "metadata": {},
   "outputs": [],
   "source": [
    "print(response)"
   ]
  }
 ],
 "metadata": {
  "kernelspec": {
   "display_name": "Python 3 (ipykernel)",
   "language": "python",
   "name": "python3"
  },
  "language_info": {
   "codemirror_mode": {
    "name": "ipython",
    "version": 3
   },
   "file_extension": ".py",
   "mimetype": "text/x-python",
   "name": "python",
   "nbconvert_exporter": "python",
   "pygments_lexer": "ipython3",
   "version": "3.10.6"
  }
 },
 "nbformat": 4,
 "nbformat_minor": 5
}
