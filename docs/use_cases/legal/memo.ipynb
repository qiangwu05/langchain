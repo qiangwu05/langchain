{
 "cells": [
  {
   "attachments": {},
   "cell_type": "markdown",
   "id": "6488fdaf",
   "metadata": {},
   "source": [
    "# 法律助理\n",
    "测试和实验GPT3.5在中国法律助理场景的应用：对中国法律的理解，对法律条款和陈述的综合分析能力的测试。\n",
    "对于这个场景prompt设计的探索和测试\n"
   ]
  },
  {
   "cell_type": "code",
   "execution_count": null,
   "id": "d244f714",
   "metadata": {},
   "outputs": [],
   "source": [
    "from langchain import LLMChain\n",
    "from langchain.agents import Tool\n",
    "from langchain.agents import AgentType\n",
    "from langchain.memory import ConversationBufferMemory\n",
    "from langchain import OpenAI\n",
    "from langchain.utilities import SerpAPIWrapper\n",
    "from langchain.agents import initialize_agent\n",
    "\n",
    "from langchain.chat_models import ChatOpenAI\n",
    "\n",
    "from langchain.prompts import (\n",
    "    ChatPromptTemplate,\n",
    "    PromptTemplate,\n",
    "    SystemMessagePromptTemplate,\n",
    "    AIMessagePromptTemplate,\n",
    "    HumanMessagePromptTemplate,\n",
    ")"
   ]
  },
  {
   "cell_type": "code",
   "execution_count": null,
   "id": "62905070",
   "metadata": {},
   "outputs": [],
   "source": [
    "llm = ChatOpenAI(temperature=0)\n",
    "llm1 = OpenAI(temperature=0)\n",
    "search = SerpAPIWrapper()\n",
    "\n",
    "tools = [\n",
    "    Tool(\n",
    "        name = \"Search\",\n",
    "        func=search.run,\n",
    "        description=\"useful for when you need to answer questions about current events. You should ask targeted questions\"\n",
    "    ),\n",
    "]"
   ]
  },
  {
   "cell_type": "code",
   "execution_count": null,
   "id": "d7f57c0a",
   "metadata": {},
   "outputs": [],
   "source": [
    "mrkl = initialize_agent(tools, llm, agent=AgentType.CHAT_ZERO_SHOT_REACT_DESCRIPTION, verbose=True)"
   ]
  },
  {
   "attachments": {},
   "cell_type": "markdown",
   "id": "9b23793a",
   "metadata": {},
   "source": [
    "最简单的推理测试：找到好的prompt很不容易，需要对法律场景、问题类型、模型与人在这样问题上的思维方式及其偏见（inductive bias）有深刻的理解后（经过很多尝试后）才能生成。"
   ]
  },
  {
   "cell_type": "code",
   "execution_count": null,
   "id": "dc434c66",
   "metadata": {},
   "outputs": [],
   "source": [
    "question = \"在这样的情况下，魏某可以索赔吗？找谁索赔\" \n",
    "\n",
    "law=\"\"\" \n",
    "《民法典》第一千二百四十五条: 饲养的动物造成他人损害的，动物饲养人或者管理人应当承担侵权责任；\\\n",
    "但是，能够证明损害是因被侵权人故意或者重大过失造成的，可以不承担或者减轻责任。\\\n",
    "《民法典》第一千二百四十六条: 违反管理规定，未对动物采取安全措施造成他人损害的，动物饲养人或者管理人应当承担侵权责任；\\\n",
    "但是，能够证明损害是因被侵权人故意造成的，可以减轻责任。\\\n",
    "《民法典》第一千二百四十九条: 遗弃、逃逸的动物在遗弃、逃逸期间造成他人损害的，由动物原饲养人或者管理人承担侵权责任。\\\n",
    "《民法典》第1254条第1款: “从建筑物中抛掷物品或者从建筑物上坠落的物品造成他人损害的，由侵权人依法承担侵权责任。”\\\n",
    "上述4条法规对高空抛物致人损害责任做了一般规定，明确高空抛物造成他人损害的，高空抛物侵权人承担直接责任。\n",
    "如无法查明侵权人，高空抛物行为人不能证明自己没有过错的，比如事发时家中无人或可证明家中并无此种物品等，\n",
    "则由可能抛掷物品或致使物品坠落的所有建筑物使用人一并给予受害人补偿。如事后可以查明侵权人为何人，给予补偿的人可再向侵权人追偿。\n",
    "\"\"\"\n",
    "statement =\"\"\"2004年6月15日, 四川省成都市某临街小百货店的老板魏某准备回家吃午饭, 刚刚迈出店门，突然就有一个东西砸在自己的头上，\n",
    "疼得他大叫起来，赶紧用手捂住头部，鲜血从手中流了出来。他的妻子和儿子急忙上前扶住，发现其头部砸伤。\n",
    "同时发现， 肇事者原来是从楼上掉下来的一只圆盘大小的乌龟。魏某的小百货店在小区的一楼, \n",
    "上面还有2到7层是居民住宅, 乌龟肯定是住在2至7层的居民在阳台上的。魏某儿子拿着乌龟从2楼找到7楼敲门让邻居认领, \n",
    "但是这些邻居均不承认自己饲养乌龟, 报警后, 魏某表示, 希望养龟的住户能够自觉承认, 承担责任, 如果无人承认, 他将向2至7楼居民集体索赔。\n",
    "警察也无法确认是谁养的乌龟\"\"\""
   ]
  },
  {
   "cell_type": "code",
   "execution_count": null,
   "id": "02393041",
   "metadata": {},
   "outputs": [],
   "source": [
    "question = \"根据上述法律分析这对情侣是否构成犯罪，并阐述分析过程。\" \n",
    "\n",
    "law=\"\"\" \n",
    "如果连看都不看就扔，有砸伤人的风险，在这种情况下，即使没砸伤人，也可能被认定为间接故意而构成犯罪。\n",
    "如果砸之前看了楼下没人，但扔下去之后突然有人飞快窜出被砸成重伤，也会构成犯罪。\n",
    "\"\"\"\n",
    "statement =\"\"\"一对情侣在家里不知道因为什么原因而大吵了一架，生气之下把自己养的狗从8楼扔下。\n",
    "好在，当时没有人路过，可怜狗狗成为了受害者。据目击者称，当时看到狗从天而降，大家上去施救的时候，发现狗已经没有了生命体征；\n",
    "而且直到死的那一刻，眼睛也没闭上。事后，警察到来，带走这对情侣，回去协助调查\"\"\""
   ]
  },
  {
   "cell_type": "code",
   "execution_count": null,
   "id": "731328d6",
   "metadata": {},
   "outputs": [],
   "source": [
    "question = \"\"\"\n",
    "1. 本案属于利用计算机实施犯罪，利用计算机实施犯罪如何确定管辖？哪些地方的公安机关对本案有管辖权？\n",
    "2. 作为犯罪嫌疑人，林某供述的笔录与讯问录音录像存在本质性差异，法院应该以哪个为准？讯问录音录像能否作为认定案件的依据？\n",
    "3. 价格机构出具价格认定书，属于何种证据类型，是否可以作为本案证据？\n",
    "4. 针对电子证据的收集，法院应审查哪些内容？    \n",
    "5. 检察机关的举证质证方式是什么？\"\"\"\n",
    "\n",
    "law=\"\"\" \n",
    "《高法解释》第93条规定：“对电子邮件、电子数据交换、网上聊天记录、博客、微博客、手机短信、 电子签名、域名等电子数据，应当着重审査以下内容（1）是否随原始存储介质移送；在原始存储介质无法封存、不便移动或者依法应当由有关部门保管、处理、返还时，提取、复制电子数据是否由二人以上进行，是否足以保证电子数据的完整性，有无提取、复制过程及原 始存储介质存放地点的文字说明和签名；（2）收集程序、方式是否符合法律及有关技术规范；经勘验、检査、 搜査等侦查活动收集的电子数据，是否附有笔录、清 单，并经侦查人员、电子数据持有人、见证人签名；没有持有人签名的，是否注明原因；远程调取境外或者异地的电子数据的，是否注明相关情况；对电子数据的规格、类别、文件格式等注明是否清楚；（3）电子数据内容 是否真实，有无删除、修改、增加等情形；（4）电子数据与案件事实有无关联；（5）与案件事实有关联的电子数据是否全面收集。对电子数据有疑问的，应当进行鉴定或者检验。”\n",
    "《刑事诉讼规则》第399条的规定：“在法庭审理中，公诉人应当客观、全面、公正地向法庭出示与定罪、量刑有关的证明被告人有罪、罪重或者罪轻的证据。按照审判长要求，或者经审判长同意，公诉人可以按照以下方式举证、质证：（1）对于可能影响定罪量刑的关键证据和控辩双方存在争议的证据，一般应当单独举证、质证；（2）对于不影响定罪量刑且控辩双方无异议的证据，可以仅就证据的名称及其证明的事项，内容作出说明；（3）对于证明方向一致、证明内容相似或者证据种类相同，存在内在逻辑关系的证据，可以归纳、分组示证、质证。公诉人出示证据时，可以借助多媒体设备等方式出示、播放或者演示证据内容。定罪证据与量刑证据需要分开的，应当分别出示。”\n",
    "《刑事诉讼法解释》第80条规定：“对被告人供述和辩解应当着重审查以下内容：……（7）被告人的供述和辩解与同案被告人的供述和辩解以及其他证据能否相互印证，有无矛盾。必要时，可以调取讯问过程的录音录像、被告人进出看守所的健康检查记录、笔录，并结合录音录像、记录、笔录对上述内容进行审查。”\n",
    "\"\"\"\n",
    "statement =\"\"\"林某明知洪某（已刑罚）实施犯罪，而为其提供网游网站，并将玩家充值到游戏里的1.2万元转走。\n",
    "林某明知张某（已刑罚）实施犯罪，而为其提供网游网站，并窃取玩家账号和密码，将账户内的资金转走。\n",
    "甲市B区公安局侦查后，认为林某明知他人利用信息网络实施犯罪，仍为其提供网站，构成帮助犯，\n",
    "并将案件移送甲市B区检察院审查起诉，甲市B区检察院向甲市B区法院提起公诉。\n",
    "本案证据有：公安收集的电子邮件，电子签名，网上聊天记录等，物价局出具的价格认定书，供 述、讯问录音录像，\n",
    "以及邀请有专门知识的人对鉴定意见发表了意见等。\"\"\""
   ]
  },
  {
   "cell_type": "code",
   "execution_count": null,
   "id": "312aa79e",
   "metadata": {},
   "outputs": [],
   "source": [
    "qTemplate=\"\"\"\n",
    "请用英文写一篇关于案情分析的备忘录，在仔细理解以下被三重反引号分隔开的事实陈述, 法律条款和问题后. \n",
    "  事实陈述：'''{statement}''' \n",
    "  法律条款：'''{law}''' \n",
    "  问题：'''{question}'''\n",
    "英文的案情分析的忘录需要包括以下3段:\n",
    "1. 列举事实陈述中容易纠结的要点\n",
    "2. 对问题做出简单和清楚的回答：回答必须基于以上法律的内容\n",
    "3. 深度和详细的分析相关法律和案情：法律条款为什么适用于陈述中的场景？请列出推理过程遇到的纠结点和做出的假设。\n",
    "\"\"\"\n",
    "qPrompt = PromptTemplate(input_variables=[\"law\", \"statement\", \"question\"], template=qTemplate)"
   ]
  },
  {
   "attachments": {},
   "cell_type": "markdown",
   "id": "c8110740",
   "metadata": {},
   "source": [
    "用LLMChain一步来写memo"
   ]
  },
  {
   "cell_type": "code",
   "execution_count": null,
   "id": "7e511256",
   "metadata": {},
   "outputs": [],
   "source": [
    "text=\"\"\"现有一家客户，是德国公司，需要在中国作为原告，在法院提起一项民事诉讼案。\n",
    "请用英文给该客户写一个电子邮件，告知客户为委托律师申请立案所需要准备的诉讼程序性文件，\n",
    "比如授权委托书等，以及对该等程序性文件的公证认证要求。\"\"\"\n",
    "text=\"\"\"一对情侣在家里不知道因为什么原因而大吵了一架，生气之下把自己养的狗从8楼扔下。\n",
    "好在，当时没有人路过，可怜狗狗成为了受害者。据目击者称，当时看到狗从天而降，大家上去施救的时候，发现狗已经没有了生命体征；\n",
    "而且直到死的那一刻，眼睛也没闭上。事后，警察到来，带走这对情侣，回去协助调查。\n",
    "\n",
    "法律：如果连看都不看就扔，有砸伤人危险的情形，往往会被认定成间接故意，哪怕没砸伤人，也可能构成犯罪。\n",
    "如果看楼下没人，扔下去之后突然有人飞快窜出被砸成重伤，也会构成本罪。\n",
    "\n",
    "问题：根据上述法律分析这对情侣是否构成犯罪，并阐述分析过程。\"\"\"\n",
    "qTemplate=\"{text}\"\n",
    "qPrompt=PromptTemplate(input_variables=[\"text\"], template=qTemplate)\n",
    "qChain = LLMChain(llm=llm, verbose=True, prompt=qPrompt)\n",
    "memo=qChain.run(text=text)\n",
    "print(memo)"
   ]
  },
  {
   "cell_type": "code",
   "execution_count": null,
   "id": "673e31ed",
   "metadata": {},
   "outputs": [],
   "source": [
    "qChain = LLMChain(llm=llm, verbose=True, prompt=qPrompt)\n"
   ]
  },
  {
   "cell_type": "code",
   "execution_count": null,
   "id": "14784428",
   "metadata": {},
   "outputs": [],
   "source": [
    "memo=qChain.run(law=law, statement=statement, question=question)\n",
    "print(memo)"
   ]
  },
  {
   "attachments": {},
   "cell_type": "markdown",
   "id": "c248f6b3",
   "metadata": {},
   "source": [
    "尝试用MRKL Agent多步来写memo"
   ]
  },
  {
   "cell_type": "code",
   "execution_count": null,
   "id": "f0a49406",
   "metadata": {},
   "outputs": [],
   "source": [
    "input = qPrompt.format(law=law, statement=statement, question=question)\n",
    "print(input)"
   ]
  },
  {
   "cell_type": "code",
   "execution_count": null,
   "id": "c5d40353",
   "metadata": {},
   "outputs": [],
   "source": [
    "mrkl.run(input=input)"
   ]
  }
 ],
 "metadata": {
  "kernelspec": {
   "display_name": "Python 3 (ipykernel)",
   "language": "python",
   "name": "python3"
  },
  "language_info": {
   "codemirror_mode": {
    "name": "ipython",
    "version": 3
   },
   "file_extension": ".py",
   "mimetype": "text/x-python",
   "name": "python",
   "nbconvert_exporter": "python",
   "pygments_lexer": "ipython3",
   "version": "3.10.6"
  }
 },
 "nbformat": 4,
 "nbformat_minor": 5
}
